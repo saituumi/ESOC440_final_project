{
 "cells": [
  {
   "cell_type": "markdown",
   "id": "aa320ace",
   "metadata": {},
   "source": [
    "(resource:intake_esm)=\n",
    "# Accessing CMIP6 data with intake-esm\n",
    "\n",
    "Download this notebook \n",
    "\n",
    "This notebook demonstrates how to access Google Cloud CMIP6 data using intake-esm.\n",
    "\n",
    "Intake-esm is a data cataloging utility built on top of intake, pandas, and\n",
    "xarray. Intake-esm aims to facilitate:\n",
    "\n",
    "- the discovery of earth’s climate and weather datasets.\n",
    "- the ingestion of these datasets into xarray dataset containers.\n",
    "\n",
    "It's basic usage is shown below. To begin, let's import `intake`:"
   ]
  },
  {
   "cell_type": "code",
   "execution_count": 5,
   "id": "1cf537c2",
   "metadata": {},
   "outputs": [],
   "source": [
    "import intake\n",
    "import xarray as xr\n",
    "import pandas as pd"
   ]
  },
  {
   "cell_type": "markdown",
   "id": "7bd6a28a",
   "metadata": {},
   "source": [
    "## Load the catalog\n",
    "\n",
    "At import time, intake-esm plugin is available in intake’s registry as\n",
    "`esm_datastore` and can be accessed with `intake.open_esm_datastore()` function.\n",
    "Use the `intake_esm.tutorial.get_url()` method to access smaller subsetted catalogs for tutorial purposes."
   ]
  },
  {
   "cell_type": "code",
   "execution_count": 6,
   "id": "aa7b0f0d",
   "metadata": {},
   "outputs": [],
   "source": [
    "import intake_esm\n",
    "#url = intake_esm.tutorial.get_url('google_cmip6')\n",
    "#print(url)\n",
    "url =\"https://raw.githubusercontent.com/NCAR/intake-esm-datastore/master/catalogs/pangeo-cmip6.json\""
   ]
  },
  {
   "cell_type": "code",
   "execution_count": 7,
   "id": "ba6db87d",
   "metadata": {},
   "outputs": [
    {
     "name": "stderr",
     "output_type": "stream",
     "text": [
      "/opt/miniconda3/envs/climlab-courseware2/lib/python3.10/site-packages/intake_esm/cat.py:270: FutureWarning: DataFrame.applymap has been deprecated. Use DataFrame.map instead.\n",
      "  .applymap(type)\n"
     ]
    }
   ],
   "source": [
    "cat = intake.open_esm_datastore(url)\n"
   ]
  },
  {
   "cell_type": "markdown",
   "id": "42463170",
   "metadata": {},
   "source": [
    "The summary above tells us that this catalog contains 514818 data assets.\n",
    "We can get more information on the individual data assets contained in the\n",
    "catalog by looking at the underlying dataframe created when we load the catalog:"
   ]
  },
  {
   "cell_type": "markdown",
   "id": "35cb3232",
   "metadata": {},
   "source": [
    "## \n",
    "Search for specific datasets\n",
    "\n",
    "The {py:meth}`~intake_esm.core.esm_datastore.search` method allows the user to\n",
    "perform a query on a catalog using keyword arguments. The keyword argument names\n",
    "must match column names in the catalog. The search method returns a\n",
    "subset of the catalog with all the entries that match the provided query.\n",
    "\n",
    "In the example below, we are are going to search for the following:\n",
    "\n",
    "- variable_d: `o2` which stands for\n",
    "  `mole_concentration_of_dissolved_molecular_oxygen_in_sea_water`\n",
    "- experiments: ['historical', 'ssp585']:\n",
    "  - historical: all forcing of the recent past.\n",
    "  - ssp585: emission-driven RCP8.5 based on SSP5.\n",
    "- table_id: `0yr` which stands for annual mean variables on the ocean grid.\n",
    "- grid_label: `gn` which stands for data reported on a model's native grid.\n",
    "\n",
    "```{note}\n",
    "For more details on the CMIP6 vocabulary, please check this\n",
    "[website](http://clipc-services.ceda.ac.uk/dreq/index.html), and\n",
    "[Core Controlled Vocabularies (CVs) for use in CMIP6](https://github.com/WCRP-CMIP/CMIP6_CVs)\n",
    "GitHub repository.\n",
    "```"
   ]
  },
  {
   "cell_type": "code",
   "execution_count": 13,
   "id": "878e82f7",
   "metadata": {
    "scrolled": true
   },
   "outputs": [
    {
     "name": "stderr",
     "output_type": "stream",
     "text": [
      "/opt/miniconda3/envs/climlab-courseware2/lib/python3.10/site-packages/intake_esm/cat.py:270: FutureWarning: DataFrame.applymap has been deprecated. Use DataFrame.map instead.\n",
      "  .applymap(type)\n",
      "/opt/miniconda3/envs/climlab-courseware2/lib/python3.10/site-packages/intake_esm/cat.py:270: FutureWarning: DataFrame.applymap has been deprecated. Use DataFrame.map instead.\n",
      "  .applymap(type)\n"
     ]
    },
    {
     "data": {
      "text/plain": [
       "['ScenarioMIP.CMCC.CMCC-ESM2.ssp126.Oyr.gn']"
      ]
     },
     "execution_count": 13,
     "metadata": {},
     "output_type": "execute_result"
    }
   ],
   "source": [
    "\n",
    "cat_subset = cat.search(\n",
    "  #  activity_id=[\"historical\"],\n",
    "    institution_id = [\"CMCC\"],\n",
    "    experiment_id = [\"ssp126\"],\n",
    "   # source_id = [\"MRI-ESM2-0\"],\n",
    "    table_id=\"Oyr\",\n",
    "    variable_id=[\"ph\", \"fgco2\"],  \n",
    "    grid_label=\"gn\",\n",
    ")\n",
    "\n",
    "cat_subset.keys()\n",
    "\n",
    "#fgco2 ph co3 co3abio dissic\n",
    "\n",
    " #'ScenarioMIP.CMCC.CMCC-ESM2.ssp585.Oyr.gn',\n",
    "\n",
    "# temperature feedbacks -> low semsitivy and hoit sensitivty models \n",
    "\n",
    "# CMIP.CCCma.CanESM5.1pctCO2.Oyr.gn',\n",
    "\n",
    "\n"
   ]
  },
  {
   "cell_type": "markdown",
   "id": "8024253a",
   "metadata": {},
   "source": [
    "## Load datasets using `to_dataset_dict()`\n",
    "\n",
    "Intake-esm implements convenience utilities for loading the query results into\n",
    "higher level xarray datasets. The logic for merging/concatenating the query\n",
    "results into higher level xarray datasets is provided in the input JSON file and\n",
    "is available under `.aggregation_info` property of the catalog:"
   ]
  },
  {
   "cell_type": "code",
   "execution_count": 14,
   "id": "c6c5ea3d",
   "metadata": {},
   "outputs": [
    {
     "data": {
      "text/plain": [
       "AggregationControl(variable_column_name='variable_id', groupby_attrs=['activity_id', 'institution_id', 'source_id', 'experiment_id', 'table_id', 'grid_label'], aggregations=[Aggregation(type=<AggregationType.union: 'union'>, attribute_name='variable_id', options={}), Aggregation(type=<AggregationType.join_new: 'join_new'>, attribute_name='member_id', options={'coords': 'minimal', 'compat': 'override'}), Aggregation(type=<AggregationType.join_new: 'join_new'>, attribute_name='dcpp_init_year', options={'coords': 'minimal', 'compat': 'override'})])"
      ]
     },
     "execution_count": 14,
     "metadata": {},
     "output_type": "execute_result"
    }
   ],
   "source": [
    "cat.esmcat.aggregation_control"
   ]
  },
  {
   "cell_type": "markdown",
   "id": "de90206c",
   "metadata": {},
   "source": [
    "To load data assets into xarray datasets, we need to use the\n",
    "{py:meth}`~intake_esm.core.esm_datastore.to_dataset_dict` method. This method\n",
    "returns a dictionary of aggregate xarray datasets as the name hints."
   ]
  },
  {
   "cell_type": "code",
   "execution_count": 15,
   "id": "7582cc70",
   "metadata": {},
   "outputs": [
    {
     "name": "stdout",
     "output_type": "stream",
     "text": [
      "\n",
      "--> The keys in the returned dictionary of datasets are constructed as follows:\n",
      "\t'activity_id.institution_id.source_id.experiment_id.table_id.grid_label'\n"
     ]
    },
    {
     "data": {
      "text/html": [
       "\n",
       "<style>\n",
       "    /* Turns off some styling */\n",
       "    progress {\n",
       "        /* gets rid of default border in Firefox and Opera. */\n",
       "        border: none;\n",
       "        /* Needs to be in here for Safari polyfill so background images work as expected. */\n",
       "        background-size: auto;\n",
       "    }\n",
       "    progress:not([value]), progress:not([value])::-webkit-progress-bar {\n",
       "        background: repeating-linear-gradient(45deg, #7e7e7e, #7e7e7e 10px, #5c5c5c 10px, #5c5c5c 20px);\n",
       "    }\n",
       "    .progress-bar-interrupted, .progress-bar-interrupted::-webkit-progress-bar {\n",
       "        background: #F44336;\n",
       "    }\n",
       "</style>\n"
      ],
      "text/plain": [
       "<IPython.core.display.HTML object>"
      ]
     },
     "metadata": {},
     "output_type": "display_data"
    },
    {
     "data": {
      "text/html": [
       "\n",
       "    <div>\n",
       "      <progress value='1' class='' max='1' style='width:300px; height:20px; vertical-align: middle;'></progress>\n",
       "      100.00% [1/1 00:32&lt;00:00]\n",
       "    </div>\n",
       "    "
      ],
      "text/plain": [
       "<IPython.core.display.HTML object>"
      ]
     },
     "metadata": {},
     "output_type": "display_data"
    }
   ],
   "source": [
    "dset_dict = cat_subset.to_dataset_dict(\n",
    "    xarray_open_kwargs={\"consolidated\": True, \"decode_times\": True, \"use_cftime\": True}\n",
    ")"
   ]
  },
  {
   "cell_type": "code",
   "execution_count": 16,
   "id": "35ff5f7e",
   "metadata": {},
   "outputs": [
    {
     "data": {
      "text/plain": [
       "['ScenarioMIP.CMCC.CMCC-ESM2.ssp126.Oyr.gn']"
      ]
     },
     "execution_count": 16,
     "metadata": {},
     "output_type": "execute_result"
    }
   ],
   "source": [
    "[key for key in dset_dict.keys()][:10]"
   ]
  },
  {
   "cell_type": "markdown",
   "id": "36edc8f3",
   "metadata": {},
   "source": [
    "We can access a particular dataset as follows:"
   ]
  },
  {
   "cell_type": "code",
   "execution_count": 17,
   "id": "7bb67578",
   "metadata": {},
   "outputs": [
    {
     "data": {
      "text/plain": [
       "{'ScenarioMIP.CMCC.CMCC-ESM2.ssp126.Oyr.gn': <xarray.Dataset> Size: 2GB\n",
       " Dimensions:             (member_id: 1, dcpp_init_year: 1, time: 86, i: 292,\n",
       "                          j: 362, bnds: 2, vertices: 4, lev: 50)\n",
       " Coordinates:\n",
       "   * i                   (i) int32 1kB 0 1 2 3 4 5 6 ... 286 287 288 289 290 291\n",
       "   * j                   (j) int32 1kB 0 1 2 3 4 5 6 ... 356 357 358 359 360 361\n",
       "     latitude            (i, j) float64 846kB dask.array<chunksize=(292, 362), meta=np.ndarray>\n",
       "     longitude           (i, j) float64 846kB dask.array<chunksize=(292, 362), meta=np.ndarray>\n",
       "   * time                (time) object 688B 2015-07-02 12:00:00 ... 2100-07-02...\n",
       "     time_bnds           (time, bnds) object 1kB dask.array<chunksize=(86, 2), meta=np.ndarray>\n",
       "     vertices_latitude   (i, j, vertices) float64 3MB dask.array<chunksize=(292, 362, 4), meta=np.ndarray>\n",
       "     vertices_longitude  (i, j, vertices) float64 3MB dask.array<chunksize=(292, 362, 4), meta=np.ndarray>\n",
       "   * member_id           (member_id) object 8B 'r1i1p1f1'\n",
       "   * dcpp_init_year      (dcpp_init_year) float64 8B nan\n",
       "   * lev                 (lev) float64 400B 0.5126 1.621 ... 5.498e+03 5.904e+03\n",
       "     lev_bnds            (lev, bnds) float64 800B dask.array<chunksize=(50, 2), meta=np.ndarray>\n",
       " Dimensions without coordinates: bnds, vertices\n",
       " Data variables:\n",
       "     fgco2               (member_id, dcpp_init_year, time, i, j) float32 36MB dask.array<chunksize=(1, 1, 43, 292, 362), meta=np.ndarray>\n",
       "     ph                  (member_id, dcpp_init_year, time, lev, i, j) float32 2GB dask.array<chunksize=(1, 1, 8, 50, 292, 362), meta=np.ndarray>\n",
       " Attributes: (12/55)\n",
       "     Conventions:                      CF-1.7 CMIP-6.2\n",
       "     activity_id:                      ScenarioMIP\n",
       "     branch_method:                    standard\n",
       "     branch_time_in_child:             60225.0\n",
       "     branch_time_in_parent:            60225.0\n",
       "     cmor_version:                     3.6.0\n",
       "     ...                               ...\n",
       "     intake_esm_attrs:member_id:       r1i1p1f1\n",
       "     intake_esm_attrs:table_id:        Oyr\n",
       "     intake_esm_attrs:grid_label:      gn\n",
       "     intake_esm_attrs:version:         20210126\n",
       "     intake_esm_attrs:_data_format_:   zarr\n",
       "     intake_esm_dataset_key:           ScenarioMIP.CMCC.CMCC-ESM2.ssp126.Oyr.gn}"
      ]
     },
     "execution_count": 17,
     "metadata": {},
     "output_type": "execute_result"
    }
   ],
   "source": [
    "ds = dset_dict\n",
    "ds"
   ]
  },
  {
   "cell_type": "markdown",
   "id": "c9516be6",
   "metadata": {},
   "source": [
    "## Use custom preprocessing functions\n",
    "\n",
    "When comparing many models it is often necessary to preprocess (e.g. rename\n",
    "certain variables) them before running some analysis step. The `preprocess`\n",
    "argument lets the user pass a function, which is executed for each loaded asset\n",
    "before combining datasets."
   ]
  },
  {
   "cell_type": "code",
   "execution_count": 20,
   "id": "687f647b",
   "metadata": {},
   "outputs": [
    {
     "name": "stderr",
     "output_type": "stream",
     "text": [
      "/opt/miniconda3/envs/climlab-courseware2/lib/python3.10/site-packages/intake_esm/cat.py:270: FutureWarning: DataFrame.applymap has been deprecated. Use DataFrame.map instead.\n",
      "  .applymap(type)\n",
      "/opt/miniconda3/envs/climlab-courseware2/lib/python3.10/site-packages/intake_esm/cat.py:270: FutureWarning: DataFrame.applymap has been deprecated. Use DataFrame.map instead.\n",
      "  .applymap(type)\n"
     ]
    },
    {
     "data": {
      "text/html": [
       "<div>\n",
       "<style scoped>\n",
       "    .dataframe tbody tr th:only-of-type {\n",
       "        vertical-align: middle;\n",
       "    }\n",
       "\n",
       "    .dataframe tbody tr th {\n",
       "        vertical-align: top;\n",
       "    }\n",
       "\n",
       "    .dataframe thead th {\n",
       "        text-align: right;\n",
       "    }\n",
       "</style>\n",
       "<table border=\"1\" class=\"dataframe\">\n",
       "  <thead>\n",
       "    <tr style=\"text-align: right;\">\n",
       "      <th></th>\n",
       "      <th>activity_id</th>\n",
       "      <th>institution_id</th>\n",
       "      <th>source_id</th>\n",
       "      <th>experiment_id</th>\n",
       "      <th>member_id</th>\n",
       "      <th>table_id</th>\n",
       "      <th>variable_id</th>\n",
       "      <th>grid_label</th>\n",
       "      <th>zstore</th>\n",
       "      <th>dcpp_init_year</th>\n",
       "      <th>version</th>\n",
       "    </tr>\n",
       "  </thead>\n",
       "  <tbody>\n",
       "    <tr>\n",
       "      <th>0</th>\n",
       "      <td>ScenarioMIP</td>\n",
       "      <td>CMCC</td>\n",
       "      <td>CMCC-ESM2</td>\n",
       "      <td>ssp126</td>\n",
       "      <td>r1i1p1f1</td>\n",
       "      <td>Oyr</td>\n",
       "      <td>fgco2</td>\n",
       "      <td>gn</td>\n",
       "      <td>gs://cmip6/CMIP6/ScenarioMIP/CMCC/CMCC-ESM2/ss...</td>\n",
       "      <td>NaN</td>\n",
       "      <td>20210126</td>\n",
       "    </tr>\n",
       "    <tr>\n",
       "      <th>1</th>\n",
       "      <td>ScenarioMIP</td>\n",
       "      <td>CMCC</td>\n",
       "      <td>CMCC-ESM2</td>\n",
       "      <td>ssp126</td>\n",
       "      <td>r1i1p1f1</td>\n",
       "      <td>Oyr</td>\n",
       "      <td>ph</td>\n",
       "      <td>gn</td>\n",
       "      <td>gs://cmip6/CMIP6/ScenarioMIP/CMCC/CMCC-ESM2/ss...</td>\n",
       "      <td>NaN</td>\n",
       "      <td>20210126</td>\n",
       "    </tr>\n",
       "  </tbody>\n",
       "</table>\n",
       "</div>"
      ],
      "text/plain": [
       "   activity_id institution_id  source_id experiment_id member_id table_id  \\\n",
       "0  ScenarioMIP           CMCC  CMCC-ESM2        ssp126  r1i1p1f1      Oyr   \n",
       "1  ScenarioMIP           CMCC  CMCC-ESM2        ssp126  r1i1p1f1      Oyr   \n",
       "\n",
       "  variable_id grid_label                                             zstore  \\\n",
       "0       fgco2         gn  gs://cmip6/CMIP6/ScenarioMIP/CMCC/CMCC-ESM2/ss...   \n",
       "1          ph         gn  gs://cmip6/CMIP6/ScenarioMIP/CMCC/CMCC-ESM2/ss...   \n",
       "\n",
       "   dcpp_init_year   version  \n",
       "0             NaN  20210126  \n",
       "1             NaN  20210126  "
      ]
     },
     "execution_count": 20,
     "metadata": {},
     "output_type": "execute_result"
    }
   ],
   "source": [
    "cat_pp = cat.search(\n",
    "    experiment_id=[\"ssp126\"],\n",
    "    table_id=\"Oyr\",\n",
    "    variable_id= [\"ph\", \"fgco2\"],\n",
    "    grid_label=\"gn\",\n",
    "    source_id = [\"CMCC-ESM2\"],\n",
    "    member_id=[\"r1i1p1f1\"]\n",
    ")\n",
    "\n",
    "pd.set_option('display.max_rows', None)\n",
    "\n",
    "cat_pp.df\n",
    " #  \"dissicabio\", \"phabio\", \"co3abio\", \"fgco2abio\", \"dissicabio\"\n",
    "#'ScenarioMIP.CMCC.CMCC-ESM2.ssp585.Oyr.gn'"
   ]
  },
  {
   "cell_type": "code",
   "execution_count": 21,
   "id": "f2d4cac0",
   "metadata": {},
   "outputs": [
    {
     "name": "stdout",
     "output_type": "stream",
     "text": [
      "\n",
      "--> The keys in the returned dictionary of datasets are constructed as follows:\n",
      "\t'activity_id.institution_id.source_id.experiment_id.table_id.grid_label'\n"
     ]
    },
    {
     "data": {
      "text/html": [
       "\n",
       "<style>\n",
       "    /* Turns off some styling */\n",
       "    progress {\n",
       "        /* gets rid of default border in Firefox and Opera. */\n",
       "        border: none;\n",
       "        /* Needs to be in here for Safari polyfill so background images work as expected. */\n",
       "        background-size: auto;\n",
       "    }\n",
       "    progress:not([value]), progress:not([value])::-webkit-progress-bar {\n",
       "        background: repeating-linear-gradient(45deg, #7e7e7e, #7e7e7e 10px, #5c5c5c 10px, #5c5c5c 20px);\n",
       "    }\n",
       "    .progress-bar-interrupted, .progress-bar-interrupted::-webkit-progress-bar {\n",
       "        background: #F44336;\n",
       "    }\n",
       "</style>\n"
      ],
      "text/plain": [
       "<IPython.core.display.HTML object>"
      ]
     },
     "metadata": {},
     "output_type": "display_data"
    },
    {
     "data": {
      "text/html": [
       "\n",
       "    <div>\n",
       "      <progress value='1' class='' max='1' style='width:300px; height:20px; vertical-align: middle;'></progress>\n",
       "      100.00% [1/1 00:30&lt;00:00]\n",
       "    </div>\n",
       "    "
      ],
      "text/plain": [
       "<IPython.core.display.HTML object>"
      ]
     },
     "metadata": {},
     "output_type": "display_data"
    },
    {
     "name": "stdout",
     "output_type": "stream",
     "text": [
      "dataset key=ScenarioMIP.CMCC.CMCC-ESM2.ssp126.Oyr.gn\n",
      "\tdimensions=['bnds', 'dcpp_init_year', 'i', 'j', 'lev', 'member_id', 'time', 'vertices']\n",
      "\n"
     ]
    }
   ],
   "source": [
    "dset_dict_raw = cat_pp.to_dataset_dict(xarray_open_kwargs={\"consolidated\": True})\n",
    "\n",
    "for k, ds in dset_dict_raw.items():\n",
    "    print(f\"dataset key={k}\\n\\tdimensions={sorted(list(ds.dims))}\\n\")"
   ]
  },
  {
   "cell_type": "markdown",
   "id": "3d776007",
   "metadata": {},
   "source": [
    "```{note}\n",
    "Note that both models follow a different naming scheme. We can define a little\n",
    "helper function and pass it to `.to_dataset_dict()` to fix this. For\n",
    "demonstration purposes we will focus on the vertical level dimension which is\n",
    "called `lev` in `CanESM5` and `olevel` in `IPSL-CM6A-LR`.\n",
    "```"
   ]
  },
  {
   "cell_type": "code",
   "execution_count": 22,
   "id": "f7de90ee",
   "metadata": {},
   "outputs": [],
   "source": [
    "def helper_func(ds):\n",
    "    \"\"\"Rename `olevel` dim to `lev`\"\"\"\n",
    "    ds = ds.copy()\n",
    "    # a short example\n",
    "    if \"olevel\" in ds.dims:\n",
    "        ds = ds.rename({\"olevel\": \"lev\"})\n",
    "    return ds"
   ]
  },
  {
   "cell_type": "code",
   "execution_count": 23,
   "id": "8fffb2f0",
   "metadata": {},
   "outputs": [
    {
     "name": "stdout",
     "output_type": "stream",
     "text": [
      "\n",
      "--> The keys in the returned dictionary of datasets are constructed as follows:\n",
      "\t'activity_id.institution_id.source_id.experiment_id.table_id.grid_label'\n"
     ]
    },
    {
     "data": {
      "text/html": [
       "\n",
       "<style>\n",
       "    /* Turns off some styling */\n",
       "    progress {\n",
       "        /* gets rid of default border in Firefox and Opera. */\n",
       "        border: none;\n",
       "        /* Needs to be in here for Safari polyfill so background images work as expected. */\n",
       "        background-size: auto;\n",
       "    }\n",
       "    progress:not([value]), progress:not([value])::-webkit-progress-bar {\n",
       "        background: repeating-linear-gradient(45deg, #7e7e7e, #7e7e7e 10px, #5c5c5c 10px, #5c5c5c 20px);\n",
       "    }\n",
       "    .progress-bar-interrupted, .progress-bar-interrupted::-webkit-progress-bar {\n",
       "        background: #F44336;\n",
       "    }\n",
       "</style>\n"
      ],
      "text/plain": [
       "<IPython.core.display.HTML object>"
      ]
     },
     "metadata": {},
     "output_type": "display_data"
    },
    {
     "data": {
      "text/html": [
       "\n",
       "    <div>\n",
       "      <progress value='1' class='' max='1' style='width:300px; height:20px; vertical-align: middle;'></progress>\n",
       "      100.00% [1/1 00:02&lt;00:00]\n",
       "    </div>\n",
       "    "
      ],
      "text/plain": [
       "<IPython.core.display.HTML object>"
      ]
     },
     "metadata": {},
     "output_type": "display_data"
    },
    {
     "name": "stdout",
     "output_type": "stream",
     "text": [
      "dataset key=ScenarioMIP.CMCC.CMCC-ESM2.ssp126.Oyr.gn\n",
      "\tdimensions=['bnds', 'dcpp_init_year', 'i', 'j', 'lev', 'member_id', 'time', 'vertices']\n",
      "\n"
     ]
    }
   ],
   "source": [
    "dset_dict_fixed = cat_pp.to_dataset_dict(xarray_open_kwargs={\"consolidated\": True}, preprocess=helper_func)\n",
    "\n",
    "for k, ds in dset_dict_fixed.items():\n",
    "    print(f\"dataset key={k}\\n\\tdimensions={sorted(list(ds.dims))}\\n\")"
   ]
  },
  {
   "cell_type": "markdown",
   "id": "13dbf3d4",
   "metadata": {},
   "source": [
    "This was just an example for one dimension.\n",
    "\n",
    "```{note}\n",
    "Check out [xmip package](https://github.com/jbusecke/xMIP)\n",
    "for a full renaming function for all available CMIP6 models and some other\n",
    "utilities.\n",
    "```\n",
    "\n",
    "## Load datasets into an xarray-datatree using `to_datatree()`\n",
    "\n",
    "We can also load our data into an [xarray-datatree](https://xarray-datatree.readthedocs.io/en/latest/) object using the following:"
   ]
  },
  {
   "cell_type": "code",
   "execution_count": 24,
   "id": "572e5704-e243-45d0-bc0e-519fe5c7821f",
   "metadata": {},
   "outputs": [
    {
     "data": {
      "text/plain": [
       "<function __main__.helper_func(ds)>"
      ]
     },
     "execution_count": 24,
     "metadata": {},
     "output_type": "execute_result"
    }
   ],
   "source": [
    "helper_func"
   ]
  },
  {
   "cell_type": "code",
   "execution_count": 25,
   "id": "7e878558-fae5-40db-b2b6-be3e42f97253",
   "metadata": {},
   "outputs": [
    {
     "name": "stdout",
     "output_type": "stream",
     "text": [
      "Requirement already satisfied: xarray-datatree in /opt/miniconda3/envs/climlab-courseware2/lib/python3.10/site-packages (0.0.14)\n",
      "Requirement already satisfied: xarray>=2023.12.0 in /opt/miniconda3/envs/climlab-courseware2/lib/python3.10/site-packages (from xarray-datatree) (2025.3.1)\n",
      "Requirement already satisfied: packaging in /opt/miniconda3/envs/climlab-courseware2/lib/python3.10/site-packages (from xarray-datatree) (24.2)\n",
      "Requirement already satisfied: numpy>=1.24 in /opt/miniconda3/envs/climlab-courseware2/lib/python3.10/site-packages (from xarray>=2023.12.0->xarray-datatree) (1.26.4)\n",
      "Requirement already satisfied: pandas>=2.1 in /opt/miniconda3/envs/climlab-courseware2/lib/python3.10/site-packages (from xarray>=2023.12.0->xarray-datatree) (2.2.3)\n",
      "Requirement already satisfied: python-dateutil>=2.8.2 in /opt/miniconda3/envs/climlab-courseware2/lib/python3.10/site-packages (from pandas>=2.1->xarray>=2023.12.0->xarray-datatree) (2.9.0.post0)\n",
      "Requirement already satisfied: pytz>=2020.1 in /opt/miniconda3/envs/climlab-courseware2/lib/python3.10/site-packages (from pandas>=2.1->xarray>=2023.12.0->xarray-datatree) (2024.1)\n",
      "Requirement already satisfied: tzdata>=2022.7 in /opt/miniconda3/envs/climlab-courseware2/lib/python3.10/site-packages (from pandas>=2.1->xarray>=2023.12.0->xarray-datatree) (2025.2)\n",
      "Requirement already satisfied: six>=1.5 in /opt/miniconda3/envs/climlab-courseware2/lib/python3.10/site-packages (from python-dateutil>=2.8.2->pandas>=2.1->xarray>=2023.12.0->xarray-datatree) (1.17.0)\n"
     ]
    }
   ],
   "source": [
    "! pip install xarray-datatree"
   ]
  },
  {
   "cell_type": "code",
   "execution_count": 26,
   "id": "70da7423",
   "metadata": {},
   "outputs": [
    {
     "ename": "ImportError",
     "evalue": ".to_datatree() requires the xarray-datatree package to be installed. To proceed please install xarray-datatree using:  `python -m pip install xarray-datatree` or `conda install -c conda-forge xarray-datatree`.",
     "output_type": "error",
     "traceback": [
      "\u001b[0;31m---------------------------------------------------------------------------\u001b[0m",
      "\u001b[0;31mImportError\u001b[0m                               Traceback (most recent call last)",
      "Cell \u001b[0;32mIn[26], line 1\u001b[0m\n\u001b[0;32m----> 1\u001b[0m tree \u001b[38;5;241m=\u001b[39m \u001b[43mcat_pp\u001b[49m\u001b[38;5;241;43m.\u001b[39;49m\u001b[43mto_datatree\u001b[49m\u001b[43m(\u001b[49m\u001b[43mxarray_open_kwargs\u001b[49m\u001b[38;5;241;43m=\u001b[39;49m\u001b[43m{\u001b[49m\u001b[38;5;124;43m\"\u001b[39;49m\u001b[38;5;124;43mconsolidated\u001b[39;49m\u001b[38;5;124;43m\"\u001b[39;49m\u001b[43m:\u001b[49m\u001b[43m \u001b[49m\u001b[38;5;28;43;01mTrue\u001b[39;49;00m\u001b[43m}\u001b[49m\u001b[43m,\u001b[49m\u001b[43m \u001b[49m\u001b[43mpreprocess\u001b[49m\u001b[38;5;241;43m=\u001b[39;49m\u001b[43mhelper_func\u001b[49m\u001b[43m)\u001b[49m\n",
      "File \u001b[0;32m/opt/miniconda3/envs/climlab-courseware2/lib/python3.10/site-packages/pydantic/deprecated/decorator.py:56\u001b[0m, in \u001b[0;36mvalidate_arguments.<locals>.validate.<locals>.wrapper_function\u001b[0;34m(*args, **kwargs)\u001b[0m\n\u001b[1;32m     54\u001b[0m \u001b[38;5;129m@wraps\u001b[39m(_func)\n\u001b[1;32m     55\u001b[0m \u001b[38;5;28;01mdef\u001b[39;00m\u001b[38;5;250m \u001b[39m\u001b[38;5;21mwrapper_function\u001b[39m(\u001b[38;5;241m*\u001b[39margs: Any, \u001b[38;5;241m*\u001b[39m\u001b[38;5;241m*\u001b[39mkwargs: Any) \u001b[38;5;241m-\u001b[39m\u001b[38;5;241m>\u001b[39m Any:\n\u001b[0;32m---> 56\u001b[0m     \u001b[38;5;28;01mreturn\u001b[39;00m \u001b[43mvd\u001b[49m\u001b[38;5;241;43m.\u001b[39;49m\u001b[43mcall\u001b[49m\u001b[43m(\u001b[49m\u001b[38;5;241;43m*\u001b[39;49m\u001b[43margs\u001b[49m\u001b[43m,\u001b[49m\u001b[43m \u001b[49m\u001b[38;5;241;43m*\u001b[39;49m\u001b[38;5;241;43m*\u001b[39;49m\u001b[43mkwargs\u001b[49m\u001b[43m)\u001b[49m\n",
      "File \u001b[0;32m/opt/miniconda3/envs/climlab-courseware2/lib/python3.10/site-packages/pydantic/deprecated/decorator.py:151\u001b[0m, in \u001b[0;36mValidatedFunction.call\u001b[0;34m(self, *args, **kwargs)\u001b[0m\n\u001b[1;32m    149\u001b[0m \u001b[38;5;28;01mdef\u001b[39;00m\u001b[38;5;250m \u001b[39m\u001b[38;5;21mcall\u001b[39m(\u001b[38;5;28mself\u001b[39m, \u001b[38;5;241m*\u001b[39margs: Any, \u001b[38;5;241m*\u001b[39m\u001b[38;5;241m*\u001b[39mkwargs: Any) \u001b[38;5;241m-\u001b[39m\u001b[38;5;241m>\u001b[39m Any:\n\u001b[1;32m    150\u001b[0m     m \u001b[38;5;241m=\u001b[39m \u001b[38;5;28mself\u001b[39m\u001b[38;5;241m.\u001b[39minit_model_instance(\u001b[38;5;241m*\u001b[39margs, \u001b[38;5;241m*\u001b[39m\u001b[38;5;241m*\u001b[39mkwargs)\n\u001b[0;32m--> 151\u001b[0m     \u001b[38;5;28;01mreturn\u001b[39;00m \u001b[38;5;28;43mself\u001b[39;49m\u001b[38;5;241;43m.\u001b[39;49m\u001b[43mexecute\u001b[49m\u001b[43m(\u001b[49m\u001b[43mm\u001b[49m\u001b[43m)\u001b[49m\n",
      "File \u001b[0;32m/opt/miniconda3/envs/climlab-courseware2/lib/python3.10/site-packages/pydantic/deprecated/decorator.py:227\u001b[0m, in \u001b[0;36mValidatedFunction.execute\u001b[0;34m(self, m)\u001b[0m\n\u001b[1;32m    225\u001b[0m     \u001b[38;5;28;01mreturn\u001b[39;00m \u001b[38;5;28mself\u001b[39m\u001b[38;5;241m.\u001b[39mraw_function(\u001b[38;5;241m*\u001b[39margs_, \u001b[38;5;241m*\u001b[39m\u001b[38;5;241m*\u001b[39mkwargs, \u001b[38;5;241m*\u001b[39m\u001b[38;5;241m*\u001b[39mvar_kwargs)\n\u001b[1;32m    226\u001b[0m \u001b[38;5;28;01melse\u001b[39;00m:\n\u001b[0;32m--> 227\u001b[0m     \u001b[38;5;28;01mreturn\u001b[39;00m \u001b[38;5;28;43mself\u001b[39;49m\u001b[38;5;241;43m.\u001b[39;49m\u001b[43mraw_function\u001b[49m\u001b[43m(\u001b[49m\u001b[38;5;241;43m*\u001b[39;49m\u001b[38;5;241;43m*\u001b[39;49m\u001b[43md\u001b[49m\u001b[43m,\u001b[49m\u001b[43m \u001b[49m\u001b[38;5;241;43m*\u001b[39;49m\u001b[38;5;241;43m*\u001b[39;49m\u001b[43mvar_kwargs\u001b[49m\u001b[43m)\u001b[49m\n",
      "File \u001b[0;32m/opt/miniconda3/envs/climlab-courseware2/lib/python3.10/site-packages/intake_esm/core.py:762\u001b[0m, in \u001b[0;36mesm_datastore.to_datatree\u001b[0;34m(self, xarray_open_kwargs, xarray_combine_by_coords_kwargs, preprocess, storage_options, progressbar, aggregate, skip_on_error, levels, **kwargs)\u001b[0m\n\u001b[1;32m    703\u001b[0m \u001b[38;5;250m\u001b[39m\u001b[38;5;124;03m\"\"\"\u001b[39;00m\n\u001b[1;32m    704\u001b[0m \u001b[38;5;124;03mLoad catalog entries into a tree of xarray datasets.\u001b[39;00m\n\u001b[1;32m    705\u001b[0m \n\u001b[0;32m   (...)\u001b[0m\n\u001b[1;32m    758\u001b[0m \u001b[38;5;124;03m    pr         (member_id, time, lat, lon) float32 dask.array<chunksize=(1, 600, 160, 320), meta=np.ndarray>\u001b[39;00m\n\u001b[1;32m    759\u001b[0m \u001b[38;5;124;03m\"\"\"\u001b[39;00m\n\u001b[1;32m    761\u001b[0m \u001b[38;5;28;01mif\u001b[39;00m \u001b[38;5;129;01mnot\u001b[39;00m _DATATREE_AVAILABLE:\n\u001b[0;32m--> 762\u001b[0m     \u001b[38;5;28;01mraise\u001b[39;00m \u001b[38;5;167;01mImportError\u001b[39;00m(\n\u001b[1;32m    763\u001b[0m         \u001b[38;5;124m'\u001b[39m\u001b[38;5;124m.to_datatree() requires the xarray-datatree package to be installed. \u001b[39m\u001b[38;5;124m'\u001b[39m\n\u001b[1;32m    764\u001b[0m         \u001b[38;5;124m'\u001b[39m\u001b[38;5;124mTo proceed please install xarray-datatree using: \u001b[39m\u001b[38;5;124m'\u001b[39m\n\u001b[1;32m    765\u001b[0m         \u001b[38;5;124m'\u001b[39m\u001b[38;5;124m `python -m pip install xarray-datatree` or `conda install -c conda-forge xarray-datatree`.\u001b[39m\u001b[38;5;124m'\u001b[39m\n\u001b[1;32m    766\u001b[0m     )\n\u001b[1;32m    768\u001b[0m \u001b[38;5;66;03m# Change the groupby controls if neccessary, used to assemble the tree\u001b[39;00m\n\u001b[1;32m    769\u001b[0m \u001b[38;5;28;01mif\u001b[39;00m levels \u001b[38;5;129;01mis\u001b[39;00m \u001b[38;5;129;01mnot\u001b[39;00m \u001b[38;5;28;01mNone\u001b[39;00m:\n",
      "\u001b[0;31mImportError\u001b[0m: .to_datatree() requires the xarray-datatree package to be installed. To proceed please install xarray-datatree using:  `python -m pip install xarray-datatree` or `conda install -c conda-forge xarray-datatree`."
     ]
    }
   ],
   "source": [
    "tree = cat_pp.to_datatree(xarray_open_kwargs={\"consolidated\": True}, preprocess=helper_func)\n"
   ]
  },
  {
   "cell_type": "code",
   "execution_count": null,
   "id": "7ae40202-c50c-4b93-af6e-ee3c0b397c72",
   "metadata": {},
   "outputs": [],
   "source": [
    "!conda list | grep tree"
   ]
  },
  {
   "cell_type": "markdown",
   "id": "d93c99a0",
   "metadata": {},
   "source": [
    "## Saving a dataset to disk\n",
    "\n",
    "Once you have a case you will continue to use, you'll want to save it to a local drive for\n",
    "further work.  To save on dictionary entry to disk, use `to_netcdf`."
   ]
  },
  {
   "cell_type": "code",
   "execution_count": null,
   "id": "42ba8c54",
   "metadata": {},
   "outputs": [],
   "source": [
    "print(f\"{k=}\")"
   ]
  },
  {
   "cell_type": "code",
   "execution_count": null,
   "id": "2274f964-d2f5-4a7b-bb7a-2c9813399754",
   "metadata": {},
   "outputs": [],
   "source": [
    "print(dset_dict.keys())\n"
   ]
  },
  {
   "cell_type": "code",
   "execution_count": null,
   "id": "fb0e29f0-cc88-4c89-be07-adf9e57905bc",
   "metadata": {},
   "outputs": [],
   "source": [
    "small_ds = dset_dict['ScenarioMIP.CMCC.CMCC-ESM2.ssp126.Oyr.gn'] # example\n",
    "small_ds = small_ds.sel(time=slice(\"1850\", \"2010\"),lev = small_ds.lev.values[0]).mean(dim = \"member_id\")\n",
    "\n",
    "small_ds"
   ]
  },
  {
   "cell_type": "code",
   "execution_count": null,
   "id": "1aae2d3c-b5c7-41ea-b6e4-6236733708b5",
   "metadata": {},
   "outputs": [],
   "source": [
    "write_it = True\n",
    "if write_it:\n",
    "    xr.backends.file_manager.FILE_CACHE.clear()\n",
    "    small_ds.to_netcdf(\"hist_MRI-ESM2_0_1850_2010.nc\")\n",
    "    "
   ]
  },
  {
   "cell_type": "code",
   "execution_count": null,
   "id": "0ec48b73-1f66-4513-b49d-5464cbb8ae16",
   "metadata": {},
   "outputs": [],
   "source": [
    "test_infile = xr.open_dataset(\"CMCC_ESM2_hist.zarr\")"
   ]
  },
  {
   "cell_type": "code",
   "execution_count": null,
   "id": "72b9fbd4-9486-4f88-a397-37c3c387d042",
   "metadata": {},
   "outputs": [],
   "source": [
    "test"
   ]
  },
  {
   "cell_type": "code",
   "execution_count": null,
   "id": "3329b6cb-5738-46f2-82b9-63d74f7fbbe3",
   "metadata": {},
   "outputs": [],
   "source": [
    "! pwd"
   ]
  },
  {
   "cell_type": "code",
   "execution_count": null,
   "id": "53b58161-1be2-47c4-a04b-ca1dd9dad2f1",
   "metadata": {},
   "outputs": [],
   "source": []
  }
 ],
 "metadata": {
  "kernelspec": {
   "display_name": "Python 3 (ipykernel)",
   "language": "python",
   "name": "python3"
  },
  "language_info": {
   "codemirror_mode": {
    "name": "ipython",
    "version": 3
   },
   "file_extension": ".py",
   "mimetype": "text/x-python",
   "name": "python",
   "nbconvert_exporter": "python",
   "pygments_lexer": "ipython3",
   "version": "3.10.17"
  }
 },
 "nbformat": 4,
 "nbformat_minor": 5
}
