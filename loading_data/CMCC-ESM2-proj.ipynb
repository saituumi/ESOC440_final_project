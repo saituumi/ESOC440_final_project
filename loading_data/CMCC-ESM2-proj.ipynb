{
 "cells": [
  {
   "cell_type": "markdown",
   "id": "aa320ace",
   "metadata": {},
   "source": [
    "(resource:intake_esm)=\n",
    "# Accessing CMIP6 data with intake-esm\n",
    "\n",
    "Download this notebook \n",
    "\n",
    "This notebook demonstrates how to access Google Cloud CMIP6 data using intake-esm.\n",
    "\n",
    "Intake-esm is a data cataloging utility built on top of intake, pandas, and\n",
    "xarray. Intake-esm aims to facilitate:\n",
    "\n",
    "- the discovery of earth’s climate and weather datasets.\n",
    "- the ingestion of these datasets into xarray dataset containers.\n",
    "\n",
    "It's basic usage is shown below. To begin, let's import `intake`:"
   ]
  },
  {
   "cell_type": "code",
   "execution_count": 1,
   "id": "1cf537c2",
   "metadata": {},
   "outputs": [],
   "source": [
    "import intake\n",
    "import xarray as xr\n",
    "import pandas as pd "
   ]
  },
  {
   "cell_type": "markdown",
   "id": "7bd6a28a",
   "metadata": {},
   "source": [
    "## Load the catalog\n",
    "\n",
    "At import time, intake-esm plugin is available in intake’s registry as\n",
    "`esm_datastore` and can be accessed with `intake.open_esm_datastore()` function.\n",
    "Use the `intake_esm.tutorial.get_url()` method to access smaller subsetted catalogs for tutorial purposes."
   ]
  },
  {
   "cell_type": "code",
   "execution_count": 2,
   "id": "aa7b0f0d",
   "metadata": {},
   "outputs": [],
   "source": [
    "import intake_esm\n",
    "#url = intake_esm.tutorial.get_url('google_cmip6')\n",
    "#print(url)\n",
    "url =\"https://raw.githubusercontent.com/NCAR/intake-esm-datastore/master/catalogs/pangeo-cmip6.json\""
   ]
  },
  {
   "cell_type": "code",
   "execution_count": 3,
   "id": "ba6db87d",
   "metadata": {},
   "outputs": [
    {
     "data": {
      "text/html": [
       "<p><strong>pangeo-cmip6 catalog with 7674 dataset(s) from 514818 asset(s)</strong>:</p> <div>\n",
       "<style scoped>\n",
       "    .dataframe tbody tr th:only-of-type {\n",
       "        vertical-align: middle;\n",
       "    }\n",
       "\n",
       "    .dataframe tbody tr th {\n",
       "        vertical-align: top;\n",
       "    }\n",
       "\n",
       "    .dataframe thead th {\n",
       "        text-align: right;\n",
       "    }\n",
       "</style>\n",
       "<table border=\"1\" class=\"dataframe\">\n",
       "  <thead>\n",
       "    <tr style=\"text-align: right;\">\n",
       "      <th></th>\n",
       "      <th>unique</th>\n",
       "    </tr>\n",
       "  </thead>\n",
       "  <tbody>\n",
       "    <tr>\n",
       "      <th>activity_id</th>\n",
       "      <td>18</td>\n",
       "    </tr>\n",
       "    <tr>\n",
       "      <th>institution_id</th>\n",
       "      <td>36</td>\n",
       "    </tr>\n",
       "    <tr>\n",
       "      <th>source_id</th>\n",
       "      <td>88</td>\n",
       "    </tr>\n",
       "    <tr>\n",
       "      <th>experiment_id</th>\n",
       "      <td>170</td>\n",
       "    </tr>\n",
       "    <tr>\n",
       "      <th>member_id</th>\n",
       "      <td>657</td>\n",
       "    </tr>\n",
       "    <tr>\n",
       "      <th>table_id</th>\n",
       "      <td>37</td>\n",
       "    </tr>\n",
       "    <tr>\n",
       "      <th>variable_id</th>\n",
       "      <td>700</td>\n",
       "    </tr>\n",
       "    <tr>\n",
       "      <th>grid_label</th>\n",
       "      <td>10</td>\n",
       "    </tr>\n",
       "    <tr>\n",
       "      <th>zstore</th>\n",
       "      <td>514818</td>\n",
       "    </tr>\n",
       "    <tr>\n",
       "      <th>dcpp_init_year</th>\n",
       "      <td>60</td>\n",
       "    </tr>\n",
       "    <tr>\n",
       "      <th>version</th>\n",
       "      <td>736</td>\n",
       "    </tr>\n",
       "    <tr>\n",
       "      <th>derived_variable_id</th>\n",
       "      <td>0</td>\n",
       "    </tr>\n",
       "  </tbody>\n",
       "</table>\n",
       "</div>"
      ],
      "text/plain": [
       "<IPython.core.display.HTML object>"
      ]
     },
     "metadata": {},
     "output_type": "display_data"
    }
   ],
   "source": [
    "cat = intake.open_esm_datastore(url)\n",
    "cat"
   ]
  },
  {
   "cell_type": "markdown",
   "id": "42463170",
   "metadata": {},
   "source": [
    "The summary above tells us that this catalog contains 514818 data assets.\n",
    "We can get more information on the individual data assets contained in the\n",
    "catalog by looking at the underlying dataframe created when we load the catalog:"
   ]
  },
  {
   "cell_type": "markdown",
   "id": "35cb3232",
   "metadata": {},
   "source": [
    "## Search for specific datasets\n",
    "\n",
    "The {py:meth}`~intake_esm.core.esm_datastore.search` method allows the user to\n",
    "perform a query on a catalog using keyword arguments. The keyword argument names\n",
    "must match column names in the catalog. The search method returns a\n",
    "subset of the catalog with all the entries that match the provided query.\n",
    "\n",
    "In the example below, we are are going to search for the following:\n",
    "\n",
    "- variable_d: `o2` which stands for\n",
    "  `mole_concentration_of_dissolved_molecular_oxygen_in_sea_water`\n",
    "- experiments: ['historical', 'ssp585']:\n",
    "  - historical: all forcing of the recent past.\n",
    "  - ssp585: emission-driven RCP8.5 based on SSP5.\n",
    "- table_id: `0yr` which stands for annual mean variables on the ocean grid.\n",
    "- grid_label: `gn` which stands for data reported on a model's native grid.\n",
    "\n",
    "```{note}\n",
    "For more details on the CMIP6 vocabulary, please check this\n",
    "[website](http://clipc-services.ceda.ac.uk/dreq/index.html), and\n",
    "[Core Controlled Vocabularies (CVs) for use in CMIP6](https://github.com/WCRP-CMIP/CMIP6_CVs)\n",
    "GitHub repository.\n",
    "```"
   ]
  },
  {
   "cell_type": "code",
   "execution_count": 5,
   "id": "878e82f7",
   "metadata": {},
   "outputs": [
    {
     "data": {
      "text/plain": [
       "['ScenarioMIP.CMCC.CMCC-ESM2.ssp585.Oyr.gn']"
      ]
     },
     "execution_count": 5,
     "metadata": {},
     "output_type": "execute_result"
    }
   ],
   "source": [
    "cat_subset = cat.search(\n",
    " #  activity_id=[\"ScenarioMIP\"],\n",
    " #  institution_id = [\"CMCC\"],\n",
    "    experiment_id = ['ssp585'],\n",
    "    source_id = [\"CMCC-ESM2\"],\n",
    "    table_id=\"Oyr\",\n",
    "    variable_id=[\"fgco2\",\"ph\"],  \n",
    "    grid_label=\"gn\",\n",
    ")\n",
    "\n",
    "cat_subset.keys()"
   ]
  },
  {
   "cell_type": "markdown",
   "id": "8024253a",
   "metadata": {},
   "source": [
    "## Load datasets using `to_dataset_dict()`\n",
    "\n",
    "Intake-esm implements convenience utilities for loading the query results into\n",
    "higher level xarray datasets. The logic for merging/concatenating the query\n",
    "results into higher level xarray datasets is provided in the input JSON file and\n",
    "is available under `.aggregation_info` property of the catalog:"
   ]
  },
  {
   "cell_type": "code",
   "execution_count": 6,
   "id": "c6c5ea3d",
   "metadata": {},
   "outputs": [
    {
     "data": {
      "text/plain": [
       "AggregationControl(variable_column_name='variable_id', groupby_attrs=['activity_id', 'institution_id', 'source_id', 'experiment_id', 'table_id', 'grid_label'], aggregations=[Aggregation(type=<AggregationType.union: 'union'>, attribute_name='variable_id', options={}), Aggregation(type=<AggregationType.join_new: 'join_new'>, attribute_name='member_id', options={'coords': 'minimal', 'compat': 'override'}), Aggregation(type=<AggregationType.join_new: 'join_new'>, attribute_name='dcpp_init_year', options={'coords': 'minimal', 'compat': 'override'})])"
      ]
     },
     "execution_count": 6,
     "metadata": {},
     "output_type": "execute_result"
    }
   ],
   "source": [
    "\n",
    "cat.esmcat.aggregation_control"
   ]
  },
  {
   "cell_type": "markdown",
   "id": "de90206c",
   "metadata": {},
   "source": [
    "To load data assets into xarray datasets, we need to use the\n",
    "{py:meth}`~intake_esm.core.esm_datastore.to_dataset_dict` method. This method\n",
    "returns a dictionary of aggregate xarray datasets as the name hints."
   ]
  },
  {
   "cell_type": "code",
   "execution_count": 7,
   "id": "7582cc70",
   "metadata": {},
   "outputs": [
    {
     "name": "stdout",
     "output_type": "stream",
     "text": [
      "\n",
      "--> The keys in the returned dictionary of datasets are constructed as follows:\n",
      "\t'activity_id.institution_id.source_id.experiment_id.table_id.grid_label'\n"
     ]
    },
    {
     "data": {
      "text/html": [
       "\n",
       "<style>\n",
       "    /* Turns off some styling */\n",
       "    progress {\n",
       "        /* gets rid of default border in Firefox and Opera. */\n",
       "        border: none;\n",
       "        /* Needs to be in here for Safari polyfill so background images work as expected. */\n",
       "        background-size: auto;\n",
       "    }\n",
       "    progress:not([value]), progress:not([value])::-webkit-progress-bar {\n",
       "        background: repeating-linear-gradient(45deg, #7e7e7e, #7e7e7e 10px, #5c5c5c 10px, #5c5c5c 20px);\n",
       "    }\n",
       "    .progress-bar-interrupted, .progress-bar-interrupted::-webkit-progress-bar {\n",
       "        background: #F44336;\n",
       "    }\n",
       "</style>\n"
      ],
      "text/plain": [
       "<IPython.core.display.HTML object>"
      ]
     },
     "metadata": {},
     "output_type": "display_data"
    },
    {
     "data": {
      "text/html": [
       "\n",
       "    <div>\n",
       "      <progress value='1' class='' max='1' style='width:300px; height:20px; vertical-align: middle;'></progress>\n",
       "      100.00% [1/1 00:28&lt;00:00]\n",
       "    </div>\n",
       "    "
      ],
      "text/plain": [
       "<IPython.core.display.HTML object>"
      ]
     },
     "metadata": {},
     "output_type": "display_data"
    }
   ],
   "source": [
    "dset_dict = cat_subset.to_dataset_dict(\n",
    "    xarray_open_kwargs={\"consolidated\": True, \"decode_times\": True, \"use_cftime\": True}\n",
    ")"
   ]
  },
  {
   "cell_type": "code",
   "execution_count": 8,
   "id": "35ff5f7e",
   "metadata": {},
   "outputs": [
    {
     "data": {
      "text/plain": [
       "['ScenarioMIP.CMCC.CMCC-ESM2.ssp585.Oyr.gn']"
      ]
     },
     "execution_count": 8,
     "metadata": {},
     "output_type": "execute_result"
    }
   ],
   "source": [
    "[key for key in dset_dict.keys()][:10]"
   ]
  },
  {
   "cell_type": "markdown",
   "id": "c9516be6",
   "metadata": {},
   "source": [
    "## Use custom preprocessing functions\n",
    "\n",
    "When comparing many models it is often necessary to preprocess (e.g. rename\n",
    "certain variables) them before running some analysis step. The `preprocess`\n",
    "argument lets the user pass a function, which is executed for each loaded asset\n",
    "before combining datasets."
   ]
  },
  {
   "cell_type": "code",
   "execution_count": 9,
   "id": "687f647b",
   "metadata": {},
   "outputs": [
    {
     "data": {
      "text/html": [
       "<div>\n",
       "<style scoped>\n",
       "    .dataframe tbody tr th:only-of-type {\n",
       "        vertical-align: middle;\n",
       "    }\n",
       "\n",
       "    .dataframe tbody tr th {\n",
       "        vertical-align: top;\n",
       "    }\n",
       "\n",
       "    .dataframe thead th {\n",
       "        text-align: right;\n",
       "    }\n",
       "</style>\n",
       "<table border=\"1\" class=\"dataframe\">\n",
       "  <thead>\n",
       "    <tr style=\"text-align: right;\">\n",
       "      <th></th>\n",
       "      <th>activity_id</th>\n",
       "      <th>institution_id</th>\n",
       "      <th>source_id</th>\n",
       "      <th>experiment_id</th>\n",
       "      <th>member_id</th>\n",
       "      <th>table_id</th>\n",
       "      <th>variable_id</th>\n",
       "      <th>grid_label</th>\n",
       "      <th>zstore</th>\n",
       "      <th>dcpp_init_year</th>\n",
       "      <th>version</th>\n",
       "    </tr>\n",
       "  </thead>\n",
       "  <tbody>\n",
       "    <tr>\n",
       "      <th>0</th>\n",
       "      <td>ScenarioMIP</td>\n",
       "      <td>CMCC</td>\n",
       "      <td>CMCC-ESM2</td>\n",
       "      <td>ssp585</td>\n",
       "      <td>r1i1p1f1</td>\n",
       "      <td>Oyr</td>\n",
       "      <td>fgco2</td>\n",
       "      <td>gn</td>\n",
       "      <td>gs://cmip6/CMIP6/ScenarioMIP/CMCC/CMCC-ESM2/ss...</td>\n",
       "      <td>NaN</td>\n",
       "      <td>20210126</td>\n",
       "    </tr>\n",
       "    <tr>\n",
       "      <th>1</th>\n",
       "      <td>ScenarioMIP</td>\n",
       "      <td>CMCC</td>\n",
       "      <td>CMCC-ESM2</td>\n",
       "      <td>ssp585</td>\n",
       "      <td>r1i1p1f1</td>\n",
       "      <td>Oyr</td>\n",
       "      <td>ph</td>\n",
       "      <td>gn</td>\n",
       "      <td>gs://cmip6/CMIP6/ScenarioMIP/CMCC/CMCC-ESM2/ss...</td>\n",
       "      <td>NaN</td>\n",
       "      <td>20210126</td>\n",
       "    </tr>\n",
       "  </tbody>\n",
       "</table>\n",
       "</div>"
      ],
      "text/plain": [
       "   activity_id institution_id  source_id experiment_id member_id table_id  \\\n",
       "0  ScenarioMIP           CMCC  CMCC-ESM2        ssp585  r1i1p1f1      Oyr   \n",
       "1  ScenarioMIP           CMCC  CMCC-ESM2        ssp585  r1i1p1f1      Oyr   \n",
       "\n",
       "  variable_id grid_label                                             zstore  \\\n",
       "0       fgco2         gn  gs://cmip6/CMIP6/ScenarioMIP/CMCC/CMCC-ESM2/ss...   \n",
       "1          ph         gn  gs://cmip6/CMIP6/ScenarioMIP/CMCC/CMCC-ESM2/ss...   \n",
       "\n",
       "   dcpp_init_year   version  \n",
       "0             NaN  20210126  \n",
       "1             NaN  20210126  "
      ]
     },
     "execution_count": 9,
     "metadata": {},
     "output_type": "execute_result"
    }
   ],
   "source": [
    "cat_pp = cat.search(\n",
    "    experiment_id = ['ssp585'],\n",
    "    table_id=\"Oyr\",\n",
    "    variable_id=[\"fgco2\", \"ph\"],\n",
    "    grid_label=\"gn\",\n",
    "    source_id = [\"CMCC-ESM2\"],\n",
    "    member_id=[\"r1i1p1f1\"]\n",
    ")\n",
    "\n",
    "pd.set_option('display.max_rows', None)\n",
    "\n",
    "cat_pp.df\n",
    "\n"
   ]
  },
  {
   "cell_type": "code",
   "execution_count": 10,
   "id": "f2d4cac0",
   "metadata": {},
   "outputs": [
    {
     "name": "stdout",
     "output_type": "stream",
     "text": [
      "\n",
      "--> The keys in the returned dictionary of datasets are constructed as follows:\n",
      "\t'activity_id.institution_id.source_id.experiment_id.table_id.grid_label'\n"
     ]
    },
    {
     "data": {
      "text/html": [
       "\n",
       "<style>\n",
       "    /* Turns off some styling */\n",
       "    progress {\n",
       "        /* gets rid of default border in Firefox and Opera. */\n",
       "        border: none;\n",
       "        /* Needs to be in here for Safari polyfill so background images work as expected. */\n",
       "        background-size: auto;\n",
       "    }\n",
       "    progress:not([value]), progress:not([value])::-webkit-progress-bar {\n",
       "        background: repeating-linear-gradient(45deg, #7e7e7e, #7e7e7e 10px, #5c5c5c 10px, #5c5c5c 20px);\n",
       "    }\n",
       "    .progress-bar-interrupted, .progress-bar-interrupted::-webkit-progress-bar {\n",
       "        background: #F44336;\n",
       "    }\n",
       "</style>\n"
      ],
      "text/plain": [
       "<IPython.core.display.HTML object>"
      ]
     },
     "metadata": {},
     "output_type": "display_data"
    },
    {
     "data": {
      "text/html": [
       "\n",
       "    <div>\n",
       "      <progress value='1' class='' max='1' style='width:300px; height:20px; vertical-align: middle;'></progress>\n",
       "      100.00% [1/1 00:24&lt;00:00]\n",
       "    </div>\n",
       "    "
      ],
      "text/plain": [
       "<IPython.core.display.HTML object>"
      ]
     },
     "metadata": {},
     "output_type": "display_data"
    },
    {
     "name": "stdout",
     "output_type": "stream",
     "text": [
      "dataset key=ScenarioMIP.CMCC.CMCC-ESM2.ssp585.Oyr.gn\n",
      "\tdimensions=['bnds', 'dcpp_init_year', 'i', 'j', 'lev', 'member_id', 'time', 'vertices']\n",
      "\n"
     ]
    }
   ],
   "source": [
    "dset_dict_raw = cat_pp.to_dataset_dict(xarray_open_kwargs={\"consolidated\": True})\n",
    "\n",
    "for k, ds in dset_dict_raw.items():\n",
    "    print(f\"dataset key={k}\\n\\tdimensions={sorted(list(ds.dims))}\\n\")"
   ]
  },
  {
   "cell_type": "markdown",
   "id": "3d776007",
   "metadata": {},
   "source": [
    "```{note}\n",
    "Note that both models follow a different naming scheme. We can define a little\n",
    "helper function and pass it to `.to_dataset_dict()` to fix this. For\n",
    "demonstration purposes we will focus on the vertical level dimension which is\n",
    "called `lev` in `CanESM5` and `olevel` in `IPSL-CM6A-LR`.\n",
    "```"
   ]
  },
  {
   "cell_type": "code",
   "execution_count": 11,
   "id": "f7de90ee",
   "metadata": {},
   "outputs": [],
   "source": [
    "def helper_func(ds):\n",
    "    \"\"\"Rename `olevel` dim to `lev`\"\"\"\n",
    "    ds = ds.copy()\n",
    "    # a short example\n",
    "    if \"olevel\" in ds.dims:\n",
    "        ds = ds.rename({\"olevel\": \"lev\"})\n",
    "    return ds"
   ]
  },
  {
   "cell_type": "code",
   "execution_count": 12,
   "id": "8fffb2f0",
   "metadata": {},
   "outputs": [
    {
     "name": "stdout",
     "output_type": "stream",
     "text": [
      "\n",
      "--> The keys in the returned dictionary of datasets are constructed as follows:\n",
      "\t'activity_id.institution_id.source_id.experiment_id.table_id.grid_label'\n"
     ]
    },
    {
     "data": {
      "text/html": [
       "\n",
       "<style>\n",
       "    /* Turns off some styling */\n",
       "    progress {\n",
       "        /* gets rid of default border in Firefox and Opera. */\n",
       "        border: none;\n",
       "        /* Needs to be in here for Safari polyfill so background images work as expected. */\n",
       "        background-size: auto;\n",
       "    }\n",
       "    progress:not([value]), progress:not([value])::-webkit-progress-bar {\n",
       "        background: repeating-linear-gradient(45deg, #7e7e7e, #7e7e7e 10px, #5c5c5c 10px, #5c5c5c 20px);\n",
       "    }\n",
       "    .progress-bar-interrupted, .progress-bar-interrupted::-webkit-progress-bar {\n",
       "        background: #F44336;\n",
       "    }\n",
       "</style>\n"
      ],
      "text/plain": [
       "<IPython.core.display.HTML object>"
      ]
     },
     "metadata": {},
     "output_type": "display_data"
    },
    {
     "data": {
      "text/html": [
       "\n",
       "    <div>\n",
       "      <progress value='1' class='' max='1' style='width:300px; height:20px; vertical-align: middle;'></progress>\n",
       "      100.00% [1/1 00:00&lt;00:00]\n",
       "    </div>\n",
       "    "
      ],
      "text/plain": [
       "<IPython.core.display.HTML object>"
      ]
     },
     "metadata": {},
     "output_type": "display_data"
    },
    {
     "name": "stdout",
     "output_type": "stream",
     "text": [
      "dataset key=ScenarioMIP.CMCC.CMCC-ESM2.ssp585.Oyr.gn\n",
      "\tdimensions=['bnds', 'dcpp_init_year', 'i', 'j', 'lev', 'member_id', 'time', 'vertices']\n",
      "\n"
     ]
    }
   ],
   "source": [
    "dset_dict_fixed = cat_pp.to_dataset_dict(xarray_open_kwargs={\"consolidated\": True}, preprocess=helper_func)\n",
    "\n",
    "for k, ds in dset_dict_fixed.items():\n",
    "    print(f\"dataset key={k}\\n\\tdimensions={sorted(list(ds.dims))}\\n\")"
   ]
  },
  {
   "cell_type": "markdown",
   "id": "13dbf3d4",
   "metadata": {},
   "source": [
    "This was just an example for one dimension.\n",
    "\n",
    "```{note}\n",
    "Check out [xmip package](https://github.com/jbusecke/xMIP)\n",
    "for a full renaming function for all available CMIP6 models and some other\n",
    "utilities.\n",
    "```\n",
    "\n",
    "## Load datasets into an xarray-datatree using `to_datatree()`\n",
    "\n",
    "We can also load our data into an [xarray-datatree](https://xarray-datatree.readthedocs.io/en/latest/) object using the following:"
   ]
  },
  {
   "cell_type": "code",
   "execution_count": 13,
   "id": "9ed3ade4-05fe-400d-8e5a-2a76671a7e3d",
   "metadata": {},
   "outputs": [
    {
     "name": "stdout",
     "output_type": "stream",
     "text": [
      "Requirement already satisfied: xarray-datatree in /opt/miniconda3/envs/t5/lib/python3.10/site-packages (0.0.14)\n",
      "Collecting xarray>=2023.12.0 (from xarray-datatree)\n",
      "  Using cached xarray-2025.3.1-py3-none-any.whl.metadata (12 kB)\n",
      "Requirement already satisfied: packaging in /opt/miniconda3/envs/t5/lib/python3.10/site-packages (from xarray-datatree) (25.0)\n",
      "Requirement already satisfied: numpy>=1.24 in /opt/miniconda3/envs/t5/lib/python3.10/site-packages (from xarray>=2023.12.0->xarray-datatree) (1.26.4)\n",
      "Requirement already satisfied: pandas>=2.1 in /opt/miniconda3/envs/t5/lib/python3.10/site-packages (from xarray>=2023.12.0->xarray-datatree) (2.2.3)\n",
      "Requirement already satisfied: python-dateutil>=2.8.2 in /opt/miniconda3/envs/t5/lib/python3.10/site-packages (from pandas>=2.1->xarray>=2023.12.0->xarray-datatree) (2.9.0.post0)\n",
      "Requirement already satisfied: pytz>=2020.1 in /opt/miniconda3/envs/t5/lib/python3.10/site-packages (from pandas>=2.1->xarray>=2023.12.0->xarray-datatree) (2024.1)\n",
      "Requirement already satisfied: tzdata>=2022.7 in /opt/miniconda3/envs/t5/lib/python3.10/site-packages (from pandas>=2.1->xarray>=2023.12.0->xarray-datatree) (2025.2)\n",
      "Requirement already satisfied: six>=1.5 in /opt/miniconda3/envs/t5/lib/python3.10/site-packages (from python-dateutil>=2.8.2->pandas>=2.1->xarray>=2023.12.0->xarray-datatree) (1.17.0)\n",
      "Using cached xarray-2025.3.1-py3-none-any.whl (1.3 MB)\n",
      "Installing collected packages: xarray\n",
      "  Attempting uninstall: xarray\n",
      "    Found existing installation: xarray 2023.7.0\n",
      "    Uninstalling xarray-2023.7.0:\n",
      "      Successfully uninstalled xarray-2023.7.0\n",
      "Successfully installed xarray-2025.3.1\n"
     ]
    }
   ],
   "source": [
    "! pip install xarray-datatree"
   ]
  },
  {
   "cell_type": "code",
   "execution_count": 14,
   "id": "70da7423",
   "metadata": {},
   "outputs": [
    {
     "name": "stdout",
     "output_type": "stream",
     "text": [
      "\n",
      "--> The keys in the returned dictionary of datasets are constructed as follows:\n",
      "\t'activity_id/institution_id/source_id/experiment_id/table_id/grid_label'\n"
     ]
    },
    {
     "data": {
      "text/html": [
       "\n",
       "<style>\n",
       "    /* Turns off some styling */\n",
       "    progress {\n",
       "        /* gets rid of default border in Firefox and Opera. */\n",
       "        border: none;\n",
       "        /* Needs to be in here for Safari polyfill so background images work as expected. */\n",
       "        background-size: auto;\n",
       "    }\n",
       "    progress:not([value]), progress:not([value])::-webkit-progress-bar {\n",
       "        background: repeating-linear-gradient(45deg, #7e7e7e, #7e7e7e 10px, #5c5c5c 10px, #5c5c5c 20px);\n",
       "    }\n",
       "    .progress-bar-interrupted, .progress-bar-interrupted::-webkit-progress-bar {\n",
       "        background: #F44336;\n",
       "    }\n",
       "</style>\n"
      ],
      "text/plain": [
       "<IPython.core.display.HTML object>"
      ]
     },
     "metadata": {},
     "output_type": "display_data"
    },
    {
     "data": {
      "text/html": [
       "\n",
       "    <div>\n",
       "      <progress value='2' class='' max='2' style='width:300px; height:20px; vertical-align: middle;'></progress>\n",
       "      100.00% [2/2 00:26&lt;00:00]\n",
       "    </div>\n",
       "    "
      ],
      "text/plain": [
       "<IPython.core.display.HTML object>"
      ]
     },
     "metadata": {},
     "output_type": "display_data"
    }
   ],
   "source": [
    "tree = cat_pp.to_datatree(xarray_open_kwargs={\"consolidated\": True}, preprocess=helper_func)\n"
   ]
  },
  {
   "cell_type": "markdown",
   "id": "d93c99a0",
   "metadata": {},
   "source": [
    "## Saving a dataset to disk\n",
    "\n",
    "Once you have a case you will continue to use, you'll want to save it to a local drive for\n",
    "further work.  To save on dictionary entry to disk, use `to_netcdf`."
   ]
  },
  {
   "cell_type": "code",
   "execution_count": 15,
   "id": "f0b66123-d084-48bc-9263-eb168625c4ad",
   "metadata": {},
   "outputs": [
    {
     "data": {
      "text/plain": [
       "dict_keys(['ScenarioMIP.CMCC.CMCC-ESM2.ssp585.Oyr.gn'])"
      ]
     },
     "execution_count": 15,
     "metadata": {},
     "output_type": "execute_result"
    }
   ],
   "source": [
    "dset_dict.keys()"
   ]
  },
  {
   "cell_type": "code",
   "execution_count": 24,
   "id": "155a7522-52c1-443d-97ef-f5d1d1a66b9e",
   "metadata": {},
   "outputs": [
    {
     "data": {
      "text/plain": [
       "array(5903.89290385)"
      ]
     },
     "execution_count": 24,
     "metadata": {},
     "output_type": "execute_result"
    }
   ],
   "source": [
    "small_ds = dset_dict['ScenarioMIP.CMCC.CMCC-ESM2.ssp585.Oyr.gn'] # example\n",
    "small_ds = small_ds.mean(dim = \"member_id\").sel(lev = small_ds.lev.values[-1])\n",
    "\n",
    "small_ds.lev.values"
   ]
  },
  {
   "cell_type": "code",
   "execution_count": 25,
   "id": "7050ead2-2304-46f5-8110-ecb431c720c9",
   "metadata": {},
   "outputs": [],
   "source": [
    "write_it = True\n",
    "if write_it:\n",
    "    xr.backends.file_manager.FILE_CACHE.clear()\n",
    "    small_ds.to_netcdf(\"ssp585_CMCC_t1.nc\")\n",
    "    "
   ]
  },
  {
   "cell_type": "code",
   "execution_count": null,
   "id": "2c5df4b3-068a-45b1-99bb-96f655b6d226",
   "metadata": {},
   "outputs": [],
   "source": []
  },
  {
   "cell_type": "code",
   "execution_count": null,
   "id": "f4db8c93-4789-4b43-aea3-3ce0f3038315",
   "metadata": {},
   "outputs": [],
   "source": []
  },
  {
   "cell_type": "code",
   "execution_count": null,
   "id": "53f27f7b-f60f-4ba9-8a93-60b34090a557",
   "metadata": {},
   "outputs": [],
   "source": []
  }
 ],
 "metadata": {
  "kernelspec": {
   "display_name": "Python 3 (ipykernel)",
   "language": "python",
   "name": "python3"
  },
  "language_info": {
   "codemirror_mode": {
    "name": "ipython",
    "version": 3
   },
   "file_extension": ".py",
   "mimetype": "text/x-python",
   "name": "python",
   "nbconvert_exporter": "python",
   "pygments_lexer": "ipython3",
   "version": "3.10.17"
  }
 },
 "nbformat": 4,
 "nbformat_minor": 5
}
