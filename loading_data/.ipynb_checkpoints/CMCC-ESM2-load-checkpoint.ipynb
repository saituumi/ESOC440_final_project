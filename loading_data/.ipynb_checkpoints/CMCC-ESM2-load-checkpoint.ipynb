{
 "cells": [
  {
   "cell_type": "markdown",
   "id": "aa320ace",
   "metadata": {},
   "source": [
    "(resource:intake_esm)=\n",
    "# Accessing CMIP6 data with intake-esm\n",
    "\n",
    "Download this notebook \n",
    "\n",
    "This notebook demonstrates how to access Google Cloud CMIP6 data using intake-esm.\n",
    "\n",
    "Intake-esm is a data cataloging utility built on top of intake, pandas, and\n",
    "xarray. Intake-esm aims to facilitate:\n",
    "\n",
    "- the discovery of earth’s climate and weather datasets.\n",
    "- the ingestion of these datasets into xarray dataset containers.\n",
    "\n",
    "It's basic usage is shown below. To begin, let's import `intake`:"
   ]
  },
  {
   "cell_type": "code",
   "execution_count": 1,
   "id": "1cf537c2",
   "metadata": {},
   "outputs": [],
   "source": [
    "import intake\n",
    "import xarray as xr\n",
    "import pandas as pd"
   ]
  },
  {
   "cell_type": "markdown",
   "id": "7bd6a28a",
   "metadata": {},
   "source": [
    "## Load the catalog\n",
    "\n",
    "At import time, intake-esm plugin is available in intake’s registry as\n",
    "`esm_datastore` and can be accessed with `intake.open_esm_datastore()` function.\n",
    "Use the `intake_esm.tutorial.get_url()` method to access smaller subsetted catalogs for tutorial purposes."
   ]
  },
  {
   "cell_type": "code",
   "execution_count": 2,
   "id": "aa7b0f0d",
   "metadata": {},
   "outputs": [],
   "source": [
    "import intake_esm\n",
    "#url = intake_esm.tutorial.get_url('google_cmip6')\n",
    "#print(url)\n",
    "url =\"https://raw.githubusercontent.com/NCAR/intake-esm-datastore/master/catalogs/pangeo-cmip6.json\""
   ]
  },
  {
   "cell_type": "code",
   "execution_count": null,
   "id": "ba6db87d",
   "metadata": {},
   "outputs": [],
   "source": [
    "cat = intake.open_esm_datastore(url)\n"
   ]
  },
  {
   "cell_type": "markdown",
   "id": "42463170",
   "metadata": {},
   "source": [
    "The summary above tells us that this catalog contains 514818 data assets.\n",
    "We can get more information on the individual data assets contained in the\n",
    "catalog by looking at the underlying dataframe created when we load the catalog:"
   ]
  },
  {
   "cell_type": "markdown",
   "id": "c678e8f4",
   "metadata": {},
   "source": [
    "The first data asset listed in the catalog contains:\n",
    "\n",
    "- the surace pressure (variable_id='ps'), as a function of latitude, longitude, time,\n",
    "\n",
    "- the high resolution version of the CMCC climate model (source_id='CMCC-CM2-HR4'),\n",
    "\n",
    "- the high resolution model intercomparison expermenet (experiment_id='HighResMIP'),\n",
    "\n",
    "- developed by the Euro-Mediterranean Centre on Climate Change (instution_id='CMCC'),\n",
    "\n",
    "- run as part of the Coupled Model Intercomparison Project (activity_id='CMIP')\n",
    "\n",
    "And is located in Google Cloud Storage at 'gs://cmip6/CMIP6/HighResMIP/CMCC/CMCC-CM2-HR4/highresSST-present/r1i1p1f1/Amon/ps/gn/v20170706/\"\n",
    "\n",
    "## Finding unique entries\n",
    "\n",
    "To get unique values for given columns in the catalog, intake-esm provides a\n",
    "{py:meth}`~intake_esm.core.esm_datastore.unique` method:\n",
    "\n",
    "Let's query the data catalog to see what models(`source_id`), experiments\n",
    "(`experiment_id`) and temporal frequencies (`table_id`) are available."
   ]
  },
  {
   "cell_type": "code",
   "execution_count": null,
   "id": "cb91d642",
   "metadata": {},
   "outputs": [],
   "source": [
    "unique = cat.unique()"
   ]
  },
  {
   "cell_type": "code",
   "execution_count": null,
   "id": "325e2516",
   "metadata": {},
   "outputs": [],
   "source": [
    "unique['variable_id'][:1]"
   ]
  },
  {
   "cell_type": "code",
   "execution_count": null,
   "id": "a4aebe53",
   "metadata": {},
   "outputs": [],
   "source": [
    "experiments = unique['experiment_id']"
   ]
  },
  {
   "cell_type": "code",
   "execution_count": null,
   "id": "bf4206bf",
   "metadata": {},
   "outputs": [],
   "source": [
    "experiments.sort()\n",
    "#experiments"
   ]
  },
  {
   "cell_type": "code",
   "execution_count": null,
   "id": "0798a2f2",
   "metadata": {},
   "outputs": [],
   "source": [
    "#unique['variable_id']"
   ]
  },
  {
   "cell_type": "markdown",
   "id": "35cb3232",
   "metadata": {},
   "source": [
    "## Search for specific datasets\n",
    "\n",
    "The {py:meth}`~intake_esm.core.esm_datastore.search` method allows the user to\n",
    "perform a query on a catalog using keyword arguments. The keyword argument names\n",
    "must match column names in the catalog. The search method returns a\n",
    "subset of the catalog with all the entries that match the provided query.\n",
    "\n",
    "In the example below, we are are going to search for the following:\n",
    "\n",
    "- variable_d: `o2` which stands for\n",
    "  `mole_concentration_of_dissolved_molecular_oxygen_in_sea_water`\n",
    "- experiments: ['historical', 'ssp585']:\n",
    "  - historical: all forcing of the recent past.\n",
    "  - ssp585: emission-driven RCP8.5 based on SSP5.\n",
    "- table_id: `0yr` which stands for annual mean variables on the ocean grid.\n",
    "- grid_label: `gn` which stands for data reported on a model's native grid.\n",
    "\n",
    "```{note}\n",
    "For more details on the CMIP6 vocabulary, please check this\n",
    "[website](http://clipc-services.ceda.ac.uk/dreq/index.html), and\n",
    "[Core Controlled Vocabularies (CVs) for use in CMIP6](https://github.com/WCRP-CMIP/CMIP6_CVs)\n",
    "GitHub repository.\n",
    "```"
   ]
  },
  {
   "cell_type": "code",
   "execution_count": null,
   "id": "878e82f7",
   "metadata": {
    "scrolled": true
   },
   "outputs": [],
   "source": [
    "cat_subset = cat.search(\n",
    "  #  activity_id=[\"historical\"],\n",
    "  #  institution_id = [\"CMCC\"],\n",
    "    experiment_id = [\"historical\"],\n",
    "    source_id = [\"MRI-ESM2-0\"],\n",
    "    table_id=\"Oyr\",\n",
    "  #  variable_id=[\"ph\", \"fgco2\", \"co3\" , \"dissic\" , \"chl\", \"co3satcalc\" , \"co3satarag\", \"calc\", \"tos\"  ],  \n",
    "    grid_label=\"gn\",\n",
    ")\n",
    "\n",
    "cat_subset.keys()\n",
    "\n",
    "#fgco2 ph co3 co3abio dissic\n",
    "\n",
    " #'ScenarioMIP.CMCC.CMCC-ESM2.ssp585.Oyr.gn',\n",
    "\n",
    "# temperature feedbacks -> low semsitivy and hoit sensitivty models \n",
    "\n",
    "# CMIP.CCCma.CanESM5.1pctCO2.Oyr.gn',\n",
    "\n",
    "\n"
   ]
  },
  {
   "cell_type": "markdown",
   "id": "8024253a",
   "metadata": {},
   "source": [
    "## Load datasets using `to_dataset_dict()`\n",
    "\n",
    "Intake-esm implements convenience utilities for loading the query results into\n",
    "higher level xarray datasets. The logic for merging/concatenating the query\n",
    "results into higher level xarray datasets is provided in the input JSON file and\n",
    "is available under `.aggregation_info` property of the catalog:"
   ]
  },
  {
   "cell_type": "code",
   "execution_count": null,
   "id": "c6c5ea3d",
   "metadata": {},
   "outputs": [],
   "source": [
    "cat.esmcat.aggregation_control"
   ]
  },
  {
   "cell_type": "markdown",
   "id": "de90206c",
   "metadata": {},
   "source": [
    "To load data assets into xarray datasets, we need to use the\n",
    "{py:meth}`~intake_esm.core.esm_datastore.to_dataset_dict` method. This method\n",
    "returns a dictionary of aggregate xarray datasets as the name hints."
   ]
  },
  {
   "cell_type": "code",
   "execution_count": null,
   "id": "7582cc70",
   "metadata": {},
   "outputs": [],
   "source": [
    "dset_dict = cat_subset.to_dataset_dict(\n",
    "    xarray_open_kwargs={\"consolidated\": True, \"decode_times\": True, \"use_cftime\": True}\n",
    ")"
   ]
  },
  {
   "cell_type": "code",
   "execution_count": null,
   "id": "35ff5f7e",
   "metadata": {},
   "outputs": [],
   "source": [
    "[key for key in dset_dict.keys()][:10]"
   ]
  },
  {
   "cell_type": "markdown",
   "id": "36edc8f3",
   "metadata": {},
   "source": [
    "We can access a particular dataset as follows:"
   ]
  },
  {
   "cell_type": "code",
   "execution_count": null,
   "id": "7bb67578",
   "metadata": {},
   "outputs": [],
   "source": [
    "ds = dset_dict\n",
    "ds"
   ]
  },
  {
   "cell_type": "markdown",
   "id": "c9516be6",
   "metadata": {},
   "source": [
    "## Use custom preprocessing functions\n",
    "\n",
    "When comparing many models it is often necessary to preprocess (e.g. rename\n",
    "certain variables) them before running some analysis step. The `preprocess`\n",
    "argument lets the user pass a function, which is executed for each loaded asset\n",
    "before combining datasets."
   ]
  },
  {
   "cell_type": "code",
   "execution_count": null,
   "id": "687f647b",
   "metadata": {},
   "outputs": [],
   "source": [
    "cat_pp = cat.search(\n",
    "    experiment_id=[\"historical\"],\n",
    "    table_id=\"Oyr\",\n",
    "    variable_id=[\"ph\", \"fgco2\", \"co3\" , \"dissic\" , \"chl\", \"co3satcalc\" , \"co3satarag\", \"calc\", \"opottemptend\", \"osalttend\"],\n",
    "    grid_label=\"gn\",\n",
    "    source_id = [\"CESM2\"],\n",
    "    member_id=[\"r1i1p1f1\"]\n",
    ")\n",
    "\n",
    "pd.set_option('display.max_rows', None)\n",
    "\n",
    "cat_pp.df\n",
    "\n",
    "#'ScenarioMIP.CMCC.CMCC-ESM2.ssp585.Oyr.gn'"
   ]
  },
  {
   "cell_type": "code",
   "execution_count": null,
   "id": "f2d4cac0",
   "metadata": {},
   "outputs": [],
   "source": [
    "dset_dict_raw = cat_pp.to_dataset_dict(xarray_open_kwargs={\"consolidated\": True})\n",
    "\n",
    "for k, ds in dset_dict_raw.items():\n",
    "    print(f\"dataset key={k}\\n\\tdimensions={sorted(list(ds.dims))}\\n\")"
   ]
  },
  {
   "cell_type": "markdown",
   "id": "3d776007",
   "metadata": {},
   "source": [
    "```{note}\n",
    "Note that both models follow a different naming scheme. We can define a little\n",
    "helper function and pass it to `.to_dataset_dict()` to fix this. For\n",
    "demonstration purposes we will focus on the vertical level dimension which is\n",
    "called `lev` in `CanESM5` and `olevel` in `IPSL-CM6A-LR`.\n",
    "```"
   ]
  },
  {
   "cell_type": "code",
   "execution_count": null,
   "id": "f7de90ee",
   "metadata": {},
   "outputs": [],
   "source": [
    "def helper_func(ds):\n",
    "    \"\"\"Rename `olevel` dim to `lev`\"\"\"\n",
    "    ds = ds.copy()\n",
    "    # a short example\n",
    "    if \"olevel\" in ds.dims:\n",
    "        ds = ds.rename({\"olevel\": \"lev\"})\n",
    "    return ds"
   ]
  },
  {
   "cell_type": "code",
   "execution_count": null,
   "id": "8fffb2f0",
   "metadata": {},
   "outputs": [],
   "source": [
    "dset_dict_fixed = cat_pp.to_dataset_dict(xarray_open_kwargs={\"consolidated\": True}, preprocess=helper_func)\n",
    "\n",
    "for k, ds in dset_dict_fixed.items():\n",
    "    print(f\"dataset key={k}\\n\\tdimensions={sorted(list(ds.dims))}\\n\")"
   ]
  },
  {
   "cell_type": "markdown",
   "id": "13dbf3d4",
   "metadata": {},
   "source": [
    "This was just an example for one dimension.\n",
    "\n",
    "```{note}\n",
    "Check out [xmip package](https://github.com/jbusecke/xMIP)\n",
    "for a full renaming function for all available CMIP6 models and some other\n",
    "utilities.\n",
    "```\n",
    "\n",
    "## Load datasets into an xarray-datatree using `to_datatree()`\n",
    "\n",
    "We can also load our data into an [xarray-datatree](https://xarray-datatree.readthedocs.io/en/latest/) object using the following:"
   ]
  },
  {
   "cell_type": "code",
   "execution_count": null,
   "id": "572e5704-e243-45d0-bc0e-519fe5c7821f",
   "metadata": {},
   "outputs": [],
   "source": [
    "helper_func"
   ]
  },
  {
   "cell_type": "code",
   "execution_count": null,
   "id": "70da7423",
   "metadata": {},
   "outputs": [],
   "source": [
    "tree = cat_pp.to_datatree(xarray_open_kwargs={\"consolidated\": True}, preprocess=helper_func)\n"
   ]
  },
  {
   "cell_type": "code",
   "execution_count": null,
   "id": "7ae40202-c50c-4b93-af6e-ee3c0b397c72",
   "metadata": {},
   "outputs": [],
   "source": [
    "!conda list | grep tree"
   ]
  },
  {
   "cell_type": "markdown",
   "id": "d93c99a0",
   "metadata": {},
   "source": [
    "## Saving a dataset to disk\n",
    "\n",
    "Once you have a case you will continue to use, you'll want to save it to a local drive for\n",
    "further work.  To save on dictionary entry to disk, use `to_netcdf`."
   ]
  },
  {
   "cell_type": "code",
   "execution_count": null,
   "id": "42ba8c54",
   "metadata": {},
   "outputs": [],
   "source": [
    "print(f\"{k=}\")"
   ]
  },
  {
   "cell_type": "code",
   "execution_count": null,
   "id": "2274f964-d2f5-4a7b-bb7a-2c9813399754",
   "metadata": {},
   "outputs": [],
   "source": [
    "print(dset_dict.keys())\n"
   ]
  },
  {
   "cell_type": "code",
   "execution_count": null,
   "id": "1aae2d3c-b5c7-41ea-b6e4-6236733708b5",
   "metadata": {},
   "outputs": [],
   "source": [
    "write_it = True\n",
    "if write_it:\n",
    "    xr.backends.file_manager.FILE_CACHE.clear()\n",
    "    dset_dict['CMIP.CMCC.CMCC-ESM2.historical.Oyr.gn'].to_netcdf(\"hist_CESM2\",'w')\n",
    "    "
   ]
  },
  {
   "cell_type": "code",
   "execution_count": null,
   "id": "548d9728-ea9b-4c54-a8f5-c5fe7e02b637",
   "metadata": {},
   "outputs": [],
   "source": [
    "from copy import deepcopy\n",
    "test = deepcopy(dset_dict[\"CMIP.CMCC.CMCC-ESM2.historical.Oyr.gn\"])\n",
    "test.to_zarr(\"CMCC_ESM2_hist.zarr\")"
   ]
  },
  {
   "cell_type": "code",
   "execution_count": null,
   "id": "7e309072-1cb7-4b08-868c-f34dab623fc9",
   "metadata": {},
   "outputs": [],
   "source": [
    "write_it = True\n",
    "if write_it:\n",
    "    xr.backends.file_manager.FILE_CACHE.clear()\n",
    "    dset_dict[k].to_netcdf(\"CMCC.CMCC-ESM2.nc\",'w')"
   ]
  },
  {
   "cell_type": "code",
   "execution_count": null,
   "id": "0ec48b73-1f66-4513-b49d-5464cbb8ae16",
   "metadata": {},
   "outputs": [],
   "source": [
    "test_infile = xr.open_dataset(\"CMCC_ESM2_hist.zarr\")"
   ]
  },
  {
   "cell_type": "code",
   "execution_count": null,
   "id": "72b9fbd4-9486-4f88-a397-37c3c387d042",
   "metadata": {},
   "outputs": [],
   "source": [
    "test"
   ]
  },
  {
   "cell_type": "code",
   "execution_count": null,
   "id": "3329b6cb-5738-46f2-82b9-63d74f7fbbe3",
   "metadata": {},
   "outputs": [],
   "source": [
    "! pwd"
   ]
  },
  {
   "cell_type": "code",
   "execution_count": null,
   "id": "53b58161-1be2-47c4-a04b-ca1dd9dad2f1",
   "metadata": {},
   "outputs": [],
   "source": []
  }
 ],
 "metadata": {
  "kernelspec": {
   "display_name": "Python 3 (ipykernel)",
   "language": "python",
   "name": "python3"
  },
  "language_info": {
   "codemirror_mode": {
    "name": "ipython",
    "version": 3
   },
   "file_extension": ".py",
   "mimetype": "text/x-python",
   "name": "python",
   "nbconvert_exporter": "python",
   "pygments_lexer": "ipython3",
   "version": "3.10.16"
  }
 },
 "nbformat": 4,
 "nbformat_minor": 5
}
